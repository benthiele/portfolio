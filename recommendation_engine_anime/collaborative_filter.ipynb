{
 "cells": [
  {
   "cell_type": "markdown",
   "metadata": {},
   "source": [
    "### Introduction: The Collaborative Filter leverages user-item interactions to generate personalized anime recommendations. This approach is particularly effective for users who have rated a substantial number of animes, specifically those with 50 or more ratings. The system employs the Singular Value Decomposition (SVD) algorithm from the Surprise library, a popular choice for collaborative filtering tasks.\n",
    "### Data Preprocessing: The script begins by loading two datasets: a complete ratings file and an anime information file. To ensure data quality and improve model performance, we apply filtering techniques. Users with fewer than 50 ratings and animes with fewer than 100 ratings are removed from the dataset. This step helps to mitigate the cold start problem and focuses the model on users and items with sufficient interaction data.\n",
    "### Model Configuration: The SVD algorithm is initialized with specific hyperparameters, including a random state for reproducibility, 25 latent factors, and 10 training epochs. These settings were likely determined through experimentation to balance model performance and computational efficiency.\n",
    "### Training and Evaluation: The model is trained on a subset of the data (1% sample) for initial testing and hyperparameter tuning. Cross-validation is performed using 5-fold CV, with Root Mean Square Error (RMSE) and Mean Absolute Error (MAE) as evaluation metrics. This process helps in assessing the model's predictive accuracy and generalization capability.\n",
    "### Recommendation Generation: To generate recommendations for a specific user, the system first identifies all anime titles the user hasn't rated. It then predicts the user's potential ratings for these unseen animes using the trained SVD model. The predictions are sorted in descending order of estimated ratings, and the top 10 recommendations are selected.\n",
    "### Model Persistence: The trained model is saved to disk, allowing for quick loading and recommendation generation in future sessions without the need for retraining. This feature is particularly useful for deploying the recommendation system in a production environment.\n",
    "### Scalability: While initial experiments were conducted on a 1% sample of the data, the script demonstrates the capability to train on the entire dataset. This full-scale training leverages the efficiency of the SVD algorithm to handle larger datasets, potentially improving recommendation quality by capturing more user-item interactions.\n",
    "### Output: The system provides a list of top 10 recommended anime titles for a given user, based on the collaborative filtering approach. These recommendations are personalized, taking into account the user's rating history and the rating patterns of similar users in the dataset."
   ]
  },
  {
   "cell_type": "code",
   "execution_count": 1,
   "metadata": {},
   "outputs": [],
   "source": [
    "import pandas as pd\n",
    "\n",
    "from surprise import Reader, Dataset, SVD\n",
    "from surprise.model_selection import cross_validate\n",
    "from surprise.accuracy import rmse\n"
   ]
  },
  {
   "cell_type": "code",
   "execution_count": 2,
   "metadata": {},
   "outputs": [],
   "source": [
    "df = pd.read_csv('data/rating_complete.csv')\n",
    "anime_df = pd.read_csv('data/anime.csv')"
   ]
  },
  {
   "cell_type": "markdown",
   "metadata": {},
   "source": [
    "Remove the users with low number of movies rated"
   ]
  },
  {
   "cell_type": "markdown",
   "metadata": {},
   "source": [
    "Remove the animes with low number of ratings"
   ]
  },
  {
   "cell_type": "code",
   "execution_count": 3,
   "metadata": {},
   "outputs": [],
   "source": [
    "# Set thresholds for minimum number of ratings per user and per movie\n",
    "min_user_ratings = 50\n",
    "min_movie_ratings = 100\n",
    "\n",
    "# Filter users with fewer than min_user_ratings ratings\n",
    "user_counts = df['user_id'].value_counts()\n",
    "valid_users = user_counts[user_counts >= min_user_ratings].index\n",
    "dropped_users = user_counts[user_counts < min_user_ratings].index.tolist()\n",
    "\n",
    "# Filter movies with fewer than min_movie_ratings ratings\n",
    "movie_counts = df['anime_id'].value_counts()\n",
    "valid_movies = movie_counts[movie_counts >= min_movie_ratings].index\n",
    "dropped_movies = movie_counts[movie_counts < min_movie_ratings].index.tolist()\n",
    "\n",
    "# Filter the dataframe based on valid users and movies\n",
    "df = df[df['user_id'].isin(valid_users) & df['anime_id'].isin(valid_movies)]\n",
    "\n",
    "#print(\"Dropped Users:\", dropped_users)\n",
    "#print(\"Dropped Movies:\", dropped_movies)\n"
   ]
  },
  {
   "cell_type": "code",
   "execution_count": 4,
   "metadata": {},
   "outputs": [
    {
     "name": "stdout",
     "output_type": "stream",
     "text": [
      "[ 9 10  6  8  7  5  3  1  2  4]\n"
     ]
    },
    {
     "data": {
      "text/html": [
       "<div>\n",
       "<style scoped>\n",
       "    .dataframe tbody tr th:only-of-type {\n",
       "        vertical-align: middle;\n",
       "    }\n",
       "\n",
       "    .dataframe tbody tr th {\n",
       "        vertical-align: top;\n",
       "    }\n",
       "\n",
       "    .dataframe thead th {\n",
       "        text-align: right;\n",
       "    }\n",
       "</style>\n",
       "<table border=\"1\" class=\"dataframe\">\n",
       "  <thead>\n",
       "    <tr style=\"text-align: right;\">\n",
       "      <th></th>\n",
       "      <th>user_id</th>\n",
       "      <th>anime_id</th>\n",
       "      <th>rating</th>\n",
       "    </tr>\n",
       "  </thead>\n",
       "  <tbody>\n",
       "    <tr>\n",
       "      <th>35</th>\n",
       "      <td>1</td>\n",
       "      <td>22535</td>\n",
       "      <td>9</td>\n",
       "    </tr>\n",
       "    <tr>\n",
       "      <th>36</th>\n",
       "      <td>1</td>\n",
       "      <td>32281</td>\n",
       "      <td>10</td>\n",
       "    </tr>\n",
       "    <tr>\n",
       "      <th>37</th>\n",
       "      <td>1</td>\n",
       "      <td>38000</td>\n",
       "      <td>9</td>\n",
       "    </tr>\n",
       "    <tr>\n",
       "      <th>38</th>\n",
       "      <td>1</td>\n",
       "      <td>18679</td>\n",
       "      <td>6</td>\n",
       "    </tr>\n",
       "    <tr>\n",
       "      <th>39</th>\n",
       "      <td>1</td>\n",
       "      <td>37497</td>\n",
       "      <td>8</td>\n",
       "    </tr>\n",
       "  </tbody>\n",
       "</table>\n",
       "</div>"
      ],
      "text/plain": [
       "    user_id  anime_id  rating\n",
       "35        1     22535       9\n",
       "36        1     32281      10\n",
       "37        1     38000       9\n",
       "38        1     18679       6\n",
       "39        1     37497       8"
      ]
     },
     "execution_count": 4,
     "metadata": {},
     "output_type": "execute_result"
    }
   ],
   "source": [
    "print(df['rating'].unique())\n",
    "\n",
    "df.head()"
   ]
  },
  {
   "cell_type": "code",
   "execution_count": 5,
   "metadata": {},
   "outputs": [
    {
     "data": {
      "text/html": [
       "<div>\n",
       "<style scoped>\n",
       "    .dataframe tbody tr th:only-of-type {\n",
       "        vertical-align: middle;\n",
       "    }\n",
       "\n",
       "    .dataframe tbody tr th {\n",
       "        vertical-align: top;\n",
       "    }\n",
       "\n",
       "    .dataframe thead th {\n",
       "        text-align: right;\n",
       "    }\n",
       "</style>\n",
       "<table border=\"1\" class=\"dataframe\">\n",
       "  <thead>\n",
       "    <tr style=\"text-align: right;\">\n",
       "      <th></th>\n",
       "      <th>MAL_ID</th>\n",
       "      <th>Name</th>\n",
       "      <th>Score</th>\n",
       "      <th>Genres</th>\n",
       "      <th>English name</th>\n",
       "      <th>Japanese name</th>\n",
       "      <th>Type</th>\n",
       "      <th>Episodes</th>\n",
       "      <th>Aired</th>\n",
       "      <th>Premiered</th>\n",
       "      <th>...</th>\n",
       "      <th>Score-10</th>\n",
       "      <th>Score-9</th>\n",
       "      <th>Score-8</th>\n",
       "      <th>Score-7</th>\n",
       "      <th>Score-6</th>\n",
       "      <th>Score-5</th>\n",
       "      <th>Score-4</th>\n",
       "      <th>Score-3</th>\n",
       "      <th>Score-2</th>\n",
       "      <th>Score-1</th>\n",
       "    </tr>\n",
       "  </thead>\n",
       "  <tbody>\n",
       "    <tr>\n",
       "      <th>0</th>\n",
       "      <td>1</td>\n",
       "      <td>Cowboy Bebop</td>\n",
       "      <td>8.78</td>\n",
       "      <td>Action, Adventure, Comedy, Drama, Sci-Fi, Space</td>\n",
       "      <td>Cowboy Bebop</td>\n",
       "      <td>カウボーイビバップ</td>\n",
       "      <td>TV</td>\n",
       "      <td>26</td>\n",
       "      <td>Apr 3, 1998 to Apr 24, 1999</td>\n",
       "      <td>Spring 1998</td>\n",
       "      <td>...</td>\n",
       "      <td>229170.0</td>\n",
       "      <td>182126.0</td>\n",
       "      <td>131625.0</td>\n",
       "      <td>62330.0</td>\n",
       "      <td>20688.0</td>\n",
       "      <td>8904.0</td>\n",
       "      <td>3184.0</td>\n",
       "      <td>1357.0</td>\n",
       "      <td>741.0</td>\n",
       "      <td>1580.0</td>\n",
       "    </tr>\n",
       "    <tr>\n",
       "      <th>1</th>\n",
       "      <td>5</td>\n",
       "      <td>Cowboy Bebop: Tengoku no Tobira</td>\n",
       "      <td>8.39</td>\n",
       "      <td>Action, Drama, Mystery, Sci-Fi, Space</td>\n",
       "      <td>Cowboy Bebop:The Movie</td>\n",
       "      <td>カウボーイビバップ 天国の扉</td>\n",
       "      <td>Movie</td>\n",
       "      <td>1</td>\n",
       "      <td>Sep 1, 2001</td>\n",
       "      <td>Unknown</td>\n",
       "      <td>...</td>\n",
       "      <td>30043.0</td>\n",
       "      <td>49201.0</td>\n",
       "      <td>49505.0</td>\n",
       "      <td>22632.0</td>\n",
       "      <td>5805.0</td>\n",
       "      <td>1877.0</td>\n",
       "      <td>577.0</td>\n",
       "      <td>221.0</td>\n",
       "      <td>109.0</td>\n",
       "      <td>379.0</td>\n",
       "    </tr>\n",
       "    <tr>\n",
       "      <th>2</th>\n",
       "      <td>6</td>\n",
       "      <td>Trigun</td>\n",
       "      <td>8.24</td>\n",
       "      <td>Action, Sci-Fi, Adventure, Comedy, Drama, Shounen</td>\n",
       "      <td>Trigun</td>\n",
       "      <td>トライガン</td>\n",
       "      <td>TV</td>\n",
       "      <td>26</td>\n",
       "      <td>Apr 1, 1998 to Sep 30, 1998</td>\n",
       "      <td>Spring 1998</td>\n",
       "      <td>...</td>\n",
       "      <td>50229.0</td>\n",
       "      <td>75651.0</td>\n",
       "      <td>86142.0</td>\n",
       "      <td>49432.0</td>\n",
       "      <td>15376.0</td>\n",
       "      <td>5838.0</td>\n",
       "      <td>1965.0</td>\n",
       "      <td>664.0</td>\n",
       "      <td>316.0</td>\n",
       "      <td>533.0</td>\n",
       "    </tr>\n",
       "  </tbody>\n",
       "</table>\n",
       "<p>3 rows × 35 columns</p>\n",
       "</div>"
      ],
      "text/plain": [
       "   MAL_ID                             Name Score  \\\n",
       "0       1                     Cowboy Bebop  8.78   \n",
       "1       5  Cowboy Bebop: Tengoku no Tobira  8.39   \n",
       "2       6                           Trigun  8.24   \n",
       "\n",
       "                                              Genres            English name  \\\n",
       "0    Action, Adventure, Comedy, Drama, Sci-Fi, Space            Cowboy Bebop   \n",
       "1              Action, Drama, Mystery, Sci-Fi, Space  Cowboy Bebop:The Movie   \n",
       "2  Action, Sci-Fi, Adventure, Comedy, Drama, Shounen                  Trigun   \n",
       "\n",
       "    Japanese name   Type Episodes                        Aired    Premiered  \\\n",
       "0       カウボーイビバップ     TV       26  Apr 3, 1998 to Apr 24, 1999  Spring 1998   \n",
       "1  カウボーイビバップ 天国の扉  Movie        1                  Sep 1, 2001      Unknown   \n",
       "2           トライガン     TV       26  Apr 1, 1998 to Sep 30, 1998  Spring 1998   \n",
       "\n",
       "   ...  Score-10   Score-9   Score-8  Score-7  Score-6 Score-5 Score-4  \\\n",
       "0  ...  229170.0  182126.0  131625.0  62330.0  20688.0  8904.0  3184.0   \n",
       "1  ...   30043.0   49201.0   49505.0  22632.0   5805.0  1877.0   577.0   \n",
       "2  ...   50229.0   75651.0   86142.0  49432.0  15376.0  5838.0  1965.0   \n",
       "\n",
       "   Score-3  Score-2  Score-1  \n",
       "0   1357.0    741.0   1580.0  \n",
       "1    221.0    109.0    379.0  \n",
       "2    664.0    316.0    533.0  \n",
       "\n",
       "[3 rows x 35 columns]"
      ]
     },
     "execution_count": 5,
     "metadata": {},
     "output_type": "execute_result"
    }
   ],
   "source": [
    "anime_df.head(3)"
   ]
  },
  {
   "cell_type": "code",
   "execution_count": 6,
   "metadata": {},
   "outputs": [],
   "source": [
    "filtered_df = df.sample( frac=0.01, random_state=42)"
   ]
  },
  {
   "cell_type": "code",
   "execution_count": 7,
   "metadata": {},
   "outputs": [
    {
     "name": "stdout",
     "output_type": "stream",
     "text": [
      "Evaluating RMSE, MAE of algorithm SVD on 5 split(s).\n",
      "\n",
      "                  Fold 1  Fold 2  Fold 3  Fold 4  Fold 5  Mean    Std     \n",
      "RMSE (testset)    1.4374  1.4442  1.4416  1.4326  1.4361  1.4384  0.0041  \n",
      "MAE (testset)     1.0926  1.0987  1.0955  1.0919  1.0950  1.0947  0.0024  \n",
      "Fit time          9.21    9.54    10.56   11.13   13.90   10.87   1.67    \n",
      "Test time         1.62    1.70    2.24    1.90    2.30    1.95    0.27    \n",
      "Top 10 recommended anime for user 255419 : ['Ookami Kodomo no Ame to Yuki', 'Made in Abyss', '3-gatsu no Lion 2nd Season', 'Mushishi', 'Ginga Eiyuu Densetsu', 'Fullmetal Alchemist: Brotherhood', 'Steins;Gate', \"Gintama'\", 'Mushishi Zoku Shou 2nd Season', 'Hajime no Ippo']\n",
      "CPU times: total: 34.6 s\n",
      "Wall time: 1min 33s\n"
     ]
    }
   ],
   "source": [
    "%%time\n",
    "\n",
    "# Define the Reader object\n",
    "reader = Reader(rating_scale=(1, 10))\n",
    "\n",
    "# Load the data into the surprise Dataset\n",
    "data = Dataset.load_from_df(filtered_df[['user_id', 'anime_id', 'rating']], reader)\n",
    "\n",
    "# Define the SVD algorithm\n",
    "algo = SVD()\n",
    "\n",
    "# Run 5-fold cross-validation\n",
    "cross_validate(algo, data, measures=['RMSE', 'MAE'], cv=5, verbose=True)\n",
    "\n",
    "# Train the algorithm on the entire dataset\n",
    "trainset = data.build_full_trainset()\n",
    "algo.fit(trainset)\n",
    "\n",
    "# Create a mapping dictionary from anime_id to anime_name\n",
    "anime_id_to_name = dict(zip(anime_df['MAL_ID'], anime_df['Name']))\n",
    "\n",
    "# Example usage: recommend anime for a specific user\n",
    "user_id = 255419  # Specify the user for whom you want recommendations\n",
    "# Get a list of all anime ids\n",
    "all_anime_ids = df['anime_id'].unique()\n",
    "# Filter out the anime ids the user has already rated\n",
    "anime_ids_to_predict = [anime_id for anime_id in all_anime_ids if not trainset.knows_user(user_id) or not trainset.ur[trainset.to_inner_uid(user_id)]]\n",
    "# Predict ratings for the filtered anime ids\n",
    "predictions = [algo.predict(user_id, anime_id) for anime_id in anime_ids_to_predict]\n",
    "# Sort the predictions by estimated rating in descending order\n",
    "sorted_predictions = sorted(predictions, key=lambda x: x.est, reverse=True)\n",
    "# Get the top N recommendations (e.g., top 10)\n",
    "top_n_recommendations = sorted_predictions[:10]\n",
    "# Extract anime names from recommendations using the mapping dictionary\n",
    "recommended_anime_names = [anime_id_to_name[pred.iid] for pred in top_n_recommendations]\n",
    "\n",
    "print(\"Top 10 recommended anime for user\", user_id, \":\", recommended_anime_names)\n",
    "\n"
   ]
  },
  {
   "cell_type": "markdown",
   "metadata": {},
   "source": [
    "1. use the hyperparameters.\n",
    "2. try to do it in a VM"
   ]
  },
  {
   "cell_type": "code",
   "execution_count": 8,
   "metadata": {},
   "outputs": [
    {
     "name": "stdout",
     "output_type": "stream",
     "text": [
      "Evaluating RMSE, MAE of algorithm SVD on 5 split(s).\n",
      "\n",
      "                  Fold 1  Fold 2  Fold 3  Fold 4  Fold 5  Mean    Std     \n",
      "RMSE (testset)    1.4556  1.4471  1.4583  1.4565  1.4539  1.4543  0.0038  \n",
      "MAE (testset)     1.1058  1.1007  1.1085  1.1065  1.1045  1.1052  0.0026  \n",
      "Fit time          4.91    4.13    3.71    5.91    6.74    5.08    1.12    \n",
      "Test time         1.71    1.45    1.48    2.63    1.97    1.85    0.43    \n",
      "Top 10 recommended anime for user 255419 : ['3-gatsu no Lion 2nd Season', 'Ginga Eiyuu Densetsu', 'Hunter x Hunter (2011)', 'Gintama°', 'Steins;Gate', 'Gintama', \"Gintama'\", 'Owarimonogatari 2nd Season', 'Shingeki no Kyojin Season 3 Part 2', 'Fullmetal Alchemist: Brotherhood']\n",
      "CPU times: total: 24 s\n",
      "Wall time: 1min 1s\n"
     ]
    }
   ],
   "source": [
    "%%time\n",
    "\n",
    "# Define the Reader object\n",
    "reader = Reader(rating_scale=(1, 10))\n",
    "\n",
    "# Load the data into the surprise Dataset\n",
    "data = Dataset.load_from_df(filtered_df[['user_id', 'anime_id', 'rating']], reader)\n",
    "\n",
    "# Define the SVD algorithm\n",
    "algo = SVD(random_state=42, n_factors=50, n_epochs=10)\n",
    "\n",
    "# Run 5-fold cross-validation\n",
    "cross_validate(algo, data, measures=['RMSE', 'MAE'], cv=5, verbose=True)\n",
    "\n",
    "# Train the algorithm on the entire dataset\n",
    "trainset = data.build_full_trainset()\n",
    "algo.fit(trainset)\n",
    "\n",
    "# Create a mapping dictionary from anime_id to anime_name\n",
    "anime_id_to_name = dict(zip(anime_df['MAL_ID'], anime_df['Name']))\n",
    "\n",
    "# Example usage: recommend anime for a specific user\n",
    "user_id = 255419  # Specify the user for whom you want recommendations\n",
    "# Get a list of all anime ids\n",
    "all_anime_ids = df['anime_id'].unique()\n",
    "# Filter out the anime ids the user has already rated\n",
    "anime_ids_to_predict = [anime_id for anime_id in all_anime_ids if not trainset.knows_user(user_id) or not trainset.ur[trainset.to_inner_uid(user_id)]]\n",
    "# Predict ratings for the filtered anime ids\n",
    "predictions = [algo.predict(user_id, anime_id) for anime_id in anime_ids_to_predict]\n",
    "# Sort the predictions by estimated rating in descending order\n",
    "sorted_predictions = sorted(predictions, key=lambda x: x.est, reverse=True)\n",
    "# Get the top N recommendations (e.g., top 10)\n",
    "top_n_recommendations = sorted_predictions[:10]\n",
    "# Extract anime names from recommendations using the mapping dictionary\n",
    "recommended_anime_names = [anime_id_to_name[pred.iid] for pred in top_n_recommendations]\n",
    "\n",
    "print(\"Top 10 recommended anime for user\", user_id, \":\", recommended_anime_names)\n"
   ]
  },
  {
   "cell_type": "code",
   "execution_count": 9,
   "metadata": {},
   "outputs": [
    {
     "name": "stdout",
     "output_type": "stream",
     "text": [
      "Evaluating RMSE, MAE of algorithm SVD on 5 split(s).\n",
      "\n",
      "                  Fold 1  Fold 2  Fold 3  Fold 4  Fold 5  Mean    Std     \n",
      "RMSE (testset)    1.4503  1.4562  1.4501  1.4552  1.4468  1.4517  0.0035  \n",
      "MAE (testset)     1.1008  1.1047  1.1019  1.1069  1.0997  1.1028  0.0026  \n",
      "Fit time          5.82    5.50    5.48    5.40    5.60    5.56    0.14    \n",
      "Test time         2.84    2.00    1.96    2.50    2.04    2.27    0.35    \n",
      "Top 10 recommended anime for user 255419 : ['Steins;Gate', \"Gintama'\", 'Gintama', 'Gintama°', 'Hunter x Hunter (2011)', '3-gatsu no Lion 2nd Season', 'Shingeki no Kyojin Season 3 Part 2', 'Ginga Eiyuu Densetsu', 'Fullmetal Alchemist: Brotherhood', 'Koe no Katachi']\n",
      "CPU times: total: 28.8 s\n",
      "Wall time: 1min 8s\n"
     ]
    }
   ],
   "source": [
    "%%time\n",
    "\n",
    "# Define the Reader object\n",
    "reader = Reader(rating_scale=(1, 10))\n",
    "\n",
    "# Load the data into the surprise Dataset\n",
    "data = Dataset.load_from_df(filtered_df[['user_id', 'anime_id', 'rating']], reader)\n",
    "\n",
    "# Define the SVD algorithm\n",
    "algo = SVD(random_state=42, n_factors=25, n_epochs=10)\n",
    "\n",
    "# Run 5-fold cross-validation\n",
    "cross_validate(algo, data, measures=['RMSE', 'MAE'], cv=5, verbose=True)\n",
    "\n",
    "# Train the algorithm on the entire dataset\n",
    "trainset = data.build_full_trainset()\n",
    "algo.fit(trainset)\n",
    "\n",
    "# Create a mapping dictionary from anime_id to anime_name\n",
    "anime_id_to_name = dict(zip(anime_df['MAL_ID'], anime_df['Name']))\n",
    "\n",
    "# Example usage: recommend anime for a specific user\n",
    "user_id = 255419  # Specify the user for whom you want recommendations\n",
    "# Get a list of all anime ids\n",
    "all_anime_ids = df['anime_id'].unique()\n",
    "# Filter out the anime ids the user has already rated\n",
    "anime_ids_to_predict = [anime_id for anime_id in all_anime_ids if not trainset.knows_user(user_id) or not trainset.ur[trainset.to_inner_uid(user_id)]]\n",
    "# Predict ratings for the filtered anime ids\n",
    "predictions = [algo.predict(user_id, anime_id) for anime_id in anime_ids_to_predict]\n",
    "# Sort the predictions by estimated rating in descending order\n",
    "sorted_predictions = sorted(predictions, key=lambda x: x.est, reverse=True)\n",
    "# Get the top N recommendations (e.g., top 10)\n",
    "top_n_recommendations = sorted_predictions[:10]\n",
    "# Extract anime names from recommendations using the mapping dictionary\n",
    "recommended_anime_names = [anime_id_to_name[pred.iid] for pred in top_n_recommendations]\n",
    "\n",
    "print(\"Top 10 recommended anime for user\", user_id, \":\", recommended_anime_names)"
   ]
  },
  {
   "cell_type": "code",
   "execution_count": 10,
   "metadata": {},
   "outputs": [
    {
     "name": "stdout",
     "output_type": "stream",
     "text": [
      "CPU times: total: 3.84 s\n",
      "Wall time: 9.87 s\n"
     ]
    },
    {
     "data": {
      "text/plain": [
       "<surprise.prediction_algorithms.matrix_factorization.SVD at 0x2010120b400>"
      ]
     },
     "execution_count": 10,
     "metadata": {},
     "output_type": "execute_result"
    }
   ],
   "source": [
    "%%time \n",
    "\n",
    "# Train the algorithm on the entire dataset\n",
    "trainset = data.build_full_trainset()\n",
    "algo.fit(trainset)"
   ]
  },
  {
   "cell_type": "code",
   "execution_count": 14,
   "metadata": {},
   "outputs": [
    {
     "name": "stdout",
     "output_type": "stream",
     "text": [
      "Top 10 recommended anime for user 255419 : ['Steins;Gate', \"Gintama'\", 'Gintama', 'Gintama°', 'Hunter x Hunter (2011)', '3-gatsu no Lion 2nd Season', 'Shingeki no Kyojin Season 3 Part 2', 'Ginga Eiyuu Densetsu', 'Fullmetal Alchemist: Brotherhood', 'Koe no Katachi']\n",
      "CPU times: total: 422 ms\n",
      "Wall time: 1.23 s\n"
     ]
    }
   ],
   "source": [
    "%%time\n",
    "\n",
    "# Example usage: recommend anime for a specific user\n",
    "user_id = 255419  # Specify the user for whom you want recommendations\n",
    "# Get a list of all anime ids\n",
    "all_anime_ids = df['anime_id'].unique()\n",
    "# Filter out the anime ids the user has already rated\n",
    "anime_ids_to_predict = [anime_id for anime_id in all_anime_ids if not trainset.knows_user(user_id) or not trainset.ur[trainset.to_inner_uid(user_id)]]\n",
    "# Predict ratings for the filtered anime ids\n",
    "predictions = [algo.predict(user_id, anime_id) for anime_id in anime_ids_to_predict]\n",
    "# Sort the predictions by estimated rating in descending order\n",
    "sorted_predictions = sorted(predictions, key=lambda x: x.est, reverse=True)\n",
    "# Get the top N recommendations (e.g., top 10)\n",
    "top_n_recommendations = sorted_predictions[:10]\n",
    "# Extract anime names from recommendations using the mapping dictionary\n",
    "recommended_anime_names = [anime_id_to_name[pred.iid] for pred in top_n_recommendations]\n",
    "\n",
    "print(\"Top 10 recommended anime for user\", user_id, \":\", recommended_anime_names)"
   ]
  },
  {
   "cell_type": "code",
   "execution_count": 11,
   "metadata": {},
   "outputs": [
    {
     "name": "stdout",
     "output_type": "stream",
     "text": [
      "Model saved successfully to trained_svd_model.pkl\n"
     ]
    }
   ],
   "source": [
    "from surprise.dump import dump\n",
    "\n",
    "# Define the file path where you want to save the model\n",
    "file_path = \"trained_svd_model.pkl\"\n",
    "\n",
    "# Save the trained model\n",
    "dump(file_path, algo=algo)\n",
    "\n",
    "print(\"Model saved successfully to\", file_path)"
   ]
  },
  {
   "cell_type": "code",
   "execution_count": 13,
   "metadata": {},
   "outputs": [
    {
     "name": "stdout",
     "output_type": "stream",
     "text": [
      "Model loaded successfully from trained_svd_model.pkl\n"
     ]
    }
   ],
   "source": [
    "from surprise.dump import load\n",
    "\n",
    "# Define the file path where the model is saved\n",
    "file_path = \"trained_svd_model.pkl\"\n",
    "\n",
    "# Load the model\n",
    "algo = load(file_path)[1]\n",
    "\n",
    "\n",
    "# Define the Reader object\n",
    "reader = Reader(rating_scale=(1, 10))\n",
    "\n",
    "# Load the data into the surprise Dataset\n",
    "data = Dataset.load_from_df(filtered_df[['user_id', 'anime_id', 'rating']], reader)\n",
    "trainset = data.build_full_trainset()\n",
    "\n",
    "\n",
    "# Create a mapping dictionary from anime_id to anime_name\n",
    "anime_id_to_name = dict(zip(anime_df['MAL_ID'], anime_df['Name']))\n",
    "\n",
    "print(\"Model loaded successfully from\", file_path)\n"
   ]
  },
  {
   "cell_type": "markdown",
   "metadata": {},
   "source": [
    "## Let's try the entire sample"
   ]
  },
  {
   "cell_type": "code",
   "execution_count": 7,
   "metadata": {},
   "outputs": [
    {
     "name": "stdout",
     "output_type": "stream",
     "text": [
      "CPU times: total: 6min 36s\n",
      "Wall time: 23min 21s\n"
     ]
    },
    {
     "data": {
      "text/plain": [
       "<surprise.prediction_algorithms.matrix_factorization.SVD at 0x256814c6e80>"
      ]
     },
     "execution_count": 7,
     "metadata": {},
     "output_type": "execute_result"
    }
   ],
   "source": [
    "%%time\n",
    "\n",
    "# Define the Reader object\n",
    "reader = Reader(rating_scale=(1, 10))\n",
    "\n",
    "# Load the data into the surprise Dataset\n",
    "data = Dataset.load_from_df(df[['user_id', 'anime_id', 'rating']], reader)\n",
    "\n",
    "# Define the SVD algorithm\n",
    "algo = SVD(random_state=42, n_factors=25, n_epochs=10)\n",
    "\n",
    "# Train the algorithm on the entire dataset\n",
    "trainset = data.build_full_trainset()\n",
    "algo.fit(trainset)\n"
   ]
  },
  {
   "cell_type": "code",
   "execution_count": 11,
   "metadata": {},
   "outputs": [
    {
     "name": "stdout",
     "output_type": "stream",
     "text": [
      "Top 10 recommended anime for user 255419 : ['Monster', 'Neon Genesis Evangelion: The End of Evangelion', '3-gatsu no Lion 2nd Season', 'Aria the Origination', 'Ginga Eiyuu Densetsu', 'Gintama: The Final', 'Hunter x Hunter (2011)', 'Ashita no Joe 2', 'Fullmetal Alchemist: Brotherhood', 'Neon Genesis Evangelion']\n",
      "CPU times: total: 703 ms\n",
      "Wall time: 4.08 s\n"
     ]
    }
   ],
   "source": [
    "%%time\n",
    "\n",
    "# Create a mapping dictionary from anime_id to anime_name\n",
    "anime_id_to_name = dict(zip(anime_df['MAL_ID'], anime_df['Name']))\n",
    "\n",
    "# Example usage: recommend anime for a specific user\n",
    "user_id = 255419  # Specify the user for whom you want recommendations\n",
    "# Get a list of all anime ids\n",
    "all_anime_ids = df['anime_id'].unique()\n",
    "# Filter out the anime ids the user has already rated\n",
    "anime_ids_to_predict = [anime_id for anime_id in all_anime_ids if not trainset.knows_user(user_id) or not trainset.ur[trainset.to_inner_uid(user_id)]]\n",
    "# Predict ratings for the filtered anime ids\n",
    "predictions = [algo.predict(user_id, anime_id) for anime_id in anime_ids_to_predict]\n",
    "# Sort the predictions by estimated rating in descending order\n",
    "sorted_predictions = sorted(predictions, key=lambda x: x.est, reverse=True)\n",
    "# Get the top N recommendations (e.g., top 10)\n",
    "top_n_recommendations = sorted_predictions[:10]\n",
    "# Extract anime names from recommendations using the mapping dictionary\n",
    "recommended_anime_names = [anime_id_to_name[pred.iid] for pred in top_n_recommendations]\n",
    "\n",
    "print(\"Top 10 recommended anime for user\", user_id, \":\", recommended_anime_names)\n"
   ]
  }
 ],
 "metadata": {
  "kernelspec": {
   "display_name": "Python 3 (ipykernel)",
   "language": "python",
   "name": "python3"
  },
  "language_info": {
   "codemirror_mode": {
    "name": "ipython",
    "version": 3
   },
   "file_extension": ".py",
   "mimetype": "text/x-python",
   "name": "python",
   "nbconvert_exporter": "python",
   "pygments_lexer": "ipython3",
   "version": "3.11.5"
  }
 },
 "nbformat": 4,
 "nbformat_minor": 2
}
